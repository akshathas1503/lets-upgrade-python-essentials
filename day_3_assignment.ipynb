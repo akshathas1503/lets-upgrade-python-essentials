{
  "nbformat": 4,
  "nbformat_minor": 0,
  "metadata": {
    "colab": {
      "name": "day 3 assignment",
      "provenance": []
    },
    "kernelspec": {
      "name": "python3",
      "display_name": "Python 3"
    }
  },
  "cells": [
    {
      "cell_type": "code",
      "metadata": {
        "id": "X1fGU06xTJq2",
        "colab_type": "code",
        "colab": {
          "base_uri": "https://localhost:8080/",
          "height": 34
        },
        "outputId": "7a9ea0c2-4528-43f8-ea95-e6a1c674c7d3"
      },
      "source": [
        "\n",
        "num=16\n",
        "if num<0:\n",
        "   print(\"enter a number\")\n",
        "else:\n",
        "  sum=0\n",
        "  while(num>0):\n",
        "    sum += num\n",
        "    num -= 1\n",
        "  print(\"the sum is\",sum)\n",
        "\n"
      ],
      "execution_count": 4,
      "outputs": [
        {
          "output_type": "stream",
          "text": [
            "the sum is 136\n"
          ],
          "name": "stdout"
        }
      ]
    },
    {
      "cell_type": "markdown",
      "metadata": {
        "id": "xeyRNTrfWHBk",
        "colab_type": "text"
      },
      "source": [
        "prime or not"
      ]
    },
    {
      "cell_type": "code",
      "metadata": {
        "id": "6-QT6tZETbaK",
        "colab_type": "code",
        "colab": {
          "base_uri": "https://localhost:8080/",
          "height": 51
        },
        "outputId": "f61da510-3fe6-40e6-aee4-ac00e3a1abc0"
      },
      "source": [
        "n=int(input(\"enter a number\"))\n",
        "if n<2:\n",
        "  print(\"not  a prime number\")\n",
        "else:\n",
        "  for i in range(2,n):\n",
        "    if n%i == 0:\n",
        "      print (\"not a prime \")\n",
        "      break \n",
        "  else:\n",
        "    print(\"number is prime\")    \n"
      ],
      "execution_count": 5,
      "outputs": [
        {
          "output_type": "stream",
          "text": [
            "enter a number23\n",
            "number is prime\n"
          ],
          "name": "stdout"
        }
      ]
    }
  ]
}